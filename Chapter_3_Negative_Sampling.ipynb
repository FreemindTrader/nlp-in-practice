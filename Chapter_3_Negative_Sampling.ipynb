{
  "nbformat": 4,
  "nbformat_minor": 0,
  "metadata": {
    "kernelspec": {
      "display_name": "Python 3",
      "language": "python",
      "name": "python3"
    },
    "language_info": {
      "codemirror_mode": {
        "name": "ipython",
        "version": 3
      },
      "file_extension": ".py",
      "mimetype": "text/x-python",
      "name": "python",
      "nbconvert_exporter": "python",
      "pygments_lexer": "ipython3",
      "version": "3.7.2"
    },
    "colab": {
      "provenance": [],
      "toc_visible": true,
      "include_colab_link": true
    }
  },
  "cells": [
    {
      "cell_type": "markdown",
      "metadata": {
        "id": "view-in-github",
        "colab_type": "text"
      },
      "source": [
        "<a href=\"https://colab.research.google.com/github/FreemindTrader/nlp-in-practice/blob/master/Chapter_3_Negative_Sampling.ipynb\" target=\"_parent\"><img src=\"https://colab.research.google.com/assets/colab-badge.svg\" alt=\"Open In Colab\"/></a>"
      ]
    },
    {
      "cell_type": "markdown",
      "metadata": {
        "id": "hN0OSR5LkJSj"
      },
      "source": [
        "# Introduction\n",
        "\n",
        "----------------------\n"
      ]
    },
    {
      "cell_type": "markdown",
      "metadata": {
        "id": "LkLDsRbakNcj"
      },
      "source": [
        "\n",
        "With both the \"Negative Sampling\" and the \"Subsampling of Frequent Words\" techniques, the sampling is based on word frequency. That is, words are sampled differently depending on how many times they appear in the training data.\n",
        "In this notebook, we will look at some actual word frequency data and see how the word2vec sampling functions behave on this data."
      ]
    },
    {
      "cell_type": "markdown",
      "metadata": {
        "id": "FlxlxxYIkJSo"
      },
      "source": [
        "# Example Word Count Data<a name=\"example_word_counts\"></a>\n",
        "--------------\n"
      ]
    },
    {
      "cell_type": "markdown",
      "metadata": {
        "id": "Zs_aXfaCkf__"
      },
      "source": [
        "Let's start by checking out some word frequency data--we'll use word counts which were extracted from a full dump of Wikipedia."
      ]
    },
    {
      "cell_type": "markdown",
      "metadata": {
        "id": "EbrfOCLykJSp"
      },
      "source": [
        "## Download Word Frequency Data <a name=\"download\"></a>\n",
        "------------------\n"
      ]
    },
    {
      "cell_type": "markdown",
      "metadata": {
        "id": "ZuUdFA1Ikhd-"
      },
      "source": [
        "GitHub user IlyaSemenov was nice enough to calculate the word occurrence counts for every word in Wikipedia and share the results [in this project](https://github.com/IlyaSemenov/wikipedia-word-frequency).\n",
        "\n",
        "Each word is followed by its count, separated by a space, with one word per line.\n",
        "You can download the file from GitHub with the following code. (I've also hosted a copy [here](https://drive.google.com/file/d/17uC1XYF2EaTIRMYsEj9JLn7Rw69RSmDe) just in case).\n",
        "\n",
        "> Note: I originally ran this Notebook on Wikipedia word count data from a 2015 dump, but that file is no longer available. The results here are with newer 2019 data, so it won't match the figures and numbers in the book exactly."
      ]
    },
    {
      "cell_type": "code",
      "metadata": {
        "id": "5m6AnuFv0QXQ",
        "colab": {
          "base_uri": "https://localhost:8080/",
          "height": 193
        },
        "outputId": "9231f789-8e57-40f5-8074-9ec147c442b7"
      },
      "source": [
        "!pip install wget"
      ],
      "execution_count": null,
      "outputs": [
        {
          "output_type": "stream",
          "text": [
            "Collecting wget\n",
            "  Downloading https://files.pythonhosted.org/packages/47/6a/62e288da7bcda82b935ff0c6cfe542970f04e29c756b0e147251b2fb251f/wget-3.2.zip\n",
            "Building wheels for collected packages: wget\n",
            "  Building wheel for wget (setup.py) ... \u001b[?25l\u001b[?25hdone\n",
            "  Created wheel for wget: filename=wget-3.2-cp36-none-any.whl size=9682 sha256=483390a5fd20c5a7fe901769f7a96bd55075fd1133c73407a0bad7c3c4ceba19\n",
            "  Stored in directory: /root/.cache/pip/wheels/40/15/30/7d8f7cea2902b4db79e3fea550d7d7b85ecb27ef992b618f3f\n",
            "Successfully built wget\n",
            "Installing collected packages: wget\n",
            "Successfully installed wget-3.2\n"
          ],
          "name": "stdout"
        }
      ]
    },
    {
      "cell_type": "code",
      "metadata": {
        "id": "57TK8cQ0ptHt",
        "colab": {
          "base_uri": "https://localhost:8080/",
          "height": 52
        },
        "outputId": "cc783a63-5896-4fc9-c3ab-2e07576e4a7a"
      },
      "source": [
        "import wget\n",
        "\n",
        "print('Downloading Wikipedia Word Frequencies...')\n",
        "\n",
        "url = 'https://raw.githubusercontent.com/IlyaSemenov/' \\\n",
        "        'wikipedia-word-frequency/master/results/' \\\n",
        "        'enwiki-20190320-words-frequency.txt'\n",
        "\n",
        "local_file = 'enwiki-20190320-words-frequency.txt'\n",
        "\n",
        "wget.download(url, local_file)"
      ],
      "execution_count": null,
      "outputs": [
        {
          "output_type": "stream",
          "text": [
            "Downloading Wikipedia Word Frequencies...\n"
          ],
          "name": "stdout"
        },
        {
          "output_type": "execute_result",
          "data": {
            "application/vnd.google.colaboratory.intrinsic+json": {
              "type": "string"
            },
            "text/plain": [
              "'enwiki-20190320-words-frequency (1).txt'"
            ]
          },
          "metadata": {
            "tags": []
          },
          "execution_count": 13
        }
      ]
    },
    {
      "cell_type": "markdown",
      "metadata": {
        "id": "kVM1bpN5kJSz"
      },
      "source": [
        "## Inspecting Word Counts<a name=\"word_counts\"></a>\n",
        "-------------------------\n",
        "Let's start by reading in the words and their counts as two separate lists. Conveniently, they have already been sorted by descending frequency."
      ]
    },
    {
      "cell_type": "code",
      "metadata": {
        "id": "SM15XcjrkJS0",
        "colab": {
          "base_uri": "https://localhost:8080/",
          "height": 86
        },
        "outputId": "551b78fa-d203-47a1-a1fc-fd104a24908c"
      },
      "source": [
        "%%time\n",
        "\n",
        "words = []\n",
        "word_counts = []\n",
        "\n",
        "print('Reading in word counts...')\n",
        "\n",
        "# Open the file and read line by line.\n",
        "with open('enwiki-20190320-words-frequency.txt',\n",
        "          'r', encoding='utf-8') as f:\n",
        "    for line in f:\n",
        "        # Remove the newline.\n",
        "        line = line.rstrip('\\n')\n",
        "\n",
        "        # The words and counts are separated by a single space.\n",
        "        (word, count) = line.split(' ')\n",
        "\n",
        "        # Store the word and its count.\n",
        "        words.append(word)\n",
        "        word_counts.append(int(count))\n",
        "\n",
        "print('   Done.')"
      ],
      "execution_count": null,
      "outputs": [
        {
          "output_type": "stream",
          "text": [
            "Reading in word counts...\n",
            "   Done.\n",
            "CPU times: user 2.06 s, sys: 217 ms, total: 2.27 s\n",
            "Wall time: 2.29 s\n"
          ],
          "name": "stdout"
        }
      ]
    },
    {
      "cell_type": "markdown",
      "metadata": {
        "id": "dSwwGhoukJS6"
      },
      "source": [
        "--------\n",
        "Let's look at a few basic properties of the data before applying it to negative sampling.\n",
        "\n",
        "There appears to be ~2.2M words in the vocabulary, and ~1.9B total word occurrences!"
      ]
    },
    {
      "cell_type": "code",
      "metadata": {
        "id": "7i3nVpoUkJS7",
        "colab": {
          "base_uri": "https://localhost:8080/",
          "height": 86
        },
        "outputId": "a372f3d8-8608-43ae-817c-297e45d4abe3"
      },
      "source": [
        "import numpy as np\n",
        "\n",
        "# Convert the list to a numpy array so we can do math on it easily.\n",
        "word_counts = np.asarray(word_counts)\n",
        "\n",
        "# Total words in the training set.\n",
        "# Make sure to sum with int64, otherwise it will overflow!\n",
        "total_words = np.sum(word_counts, dtype=np.int64)\n",
        "\n",
        "print('Number of words in vocabulary: {:,}\\n'.format(len(words)))\n",
        "print('Total word occurrences in Wikipedia: {:,}\\n'.format(total_words))"
      ],
      "execution_count": null,
      "outputs": [
        {
          "output_type": "stream",
          "text": [
            "Number of words in vocabulary: 2,184,780\n",
            "\n",
            "Total word occurrences in Wikipedia: 1,947,152,902\n",
            "\n"
          ],
          "name": "stdout"
        }
      ]
    },
    {
      "cell_type": "markdown",
      "metadata": {
        "id": "PrFhFnrlkJTA"
      },
      "source": [
        "Just out of curiosity, here are the most frequent and least frequent words."
      ]
    },
    {
      "cell_type": "code",
      "metadata": {
        "id": "sELWaafIkJTD",
        "colab": {
          "base_uri": "https://localhost:8080/",
          "height": 242
        },
        "outputId": "0b19d203-c07d-416d-c077-934b6857cc69"
      },
      "source": [
        "print('The 10 most frequest words:\\n')\n",
        "print('  --Count--    --Word--')\n",
        "\n",
        "# For the first ten word counts...\n",
        "for i in range(10):\n",
        "    # Print the count with commas, and pad it to 12 characters.\n",
        "    print('{:>12,}     {:}'.format(word_counts[i], words[i]))\n"
      ],
      "execution_count": null,
      "outputs": [
        {
          "output_type": "stream",
          "text": [
            "The 10 most frequest words:\n",
            "\n",
            "  --Count--    --Word--\n",
            " 151,983,633     the\n",
            "  71,874,676     of\n",
            "  62,210,193     and\n",
            "  62,004,799     in\n",
            "  43,364,193     to\n",
            "  26,559,707     was\n",
            "  20,923,272     is\n",
            "  17,970,059     for\n",
            "  17,582,287     on\n",
            "  17,397,452     as\n"
          ],
          "name": "stdout"
        }
      ]
    },
    {
      "cell_type": "code",
      "metadata": {
        "id": "mjm_p6QpkJTJ",
        "colab": {
          "base_uri": "https://localhost:8080/",
          "height": 225
        },
        "outputId": "c9246eac-985f-4063-831d-c5d2ff3dd4af"
      },
      "source": [
        "print('The 10 least frequest words:\\n')\n",
        "print('  --Count--    --Word--')\n",
        "\n",
        "# Go backwards through the last 10 indeces...\n",
        "for i in range(-1, -10, -1):\n",
        "    # Print the count with commas, and pad it to 12 characters.\n",
        "    print('{:>12,}     {:}'.format(word_counts[i], words[i]))"
      ],
      "execution_count": null,
      "outputs": [
        {
          "output_type": "stream",
          "text": [
            "The 10 least frequest words:\n",
            "\n",
            "  --Count--    --Word--\n",
            "           3     fi-ta\n",
            "           3     salon-bolshevist\n",
            "           3     non-number-specific\n",
            "           3     石碣村\n",
            "           3     al-ikhshīd\n",
            "           3     fürstenberg-blomberg\n",
            "           3     extra-burghal\n",
            "           3     leytenos\n",
            "           3     j'viens\n"
          ],
          "name": "stdout"
        }
      ]
    },
    {
      "cell_type": "markdown",
      "metadata": {
        "id": "HDy2HuiKkJTP"
      },
      "source": [
        "# Subsampling Frequent Words <a name=\"subsampling\"></a>\n",
        "------------------\n",
        "\n",
        "When given a list of words representing a sentence, the word2vec algorithm goes through each word and rolls some dice to decide whether to keep each word or cut it from the sentence.\n",
        "\n",
        "The following equation is used to calculate the probability of **keeping** word $ w_i $, where $ z(w_i) $ is the fraction of the total word occurrences which are word 'i'.\n",
        "\n",
        "$ P(w_i) = (\\sqrt{\\frac{z(w_i)}{0.001}} + 1) \\cdot \\frac{0.001}{z(w_i)} $\n",
        "\n",
        "The value 0.001 is a parameter which can be modified. Smaller values of 'sample' mean words are less likely to be kept / more likely to be tossed.\n",
        "\n",
        "Let's try applying this formula to our Wikipedia word data to see what happens."
      ]
    },
    {
      "cell_type": "code",
      "metadata": {
        "id": "DrnCm7NBkJTQ"
      },
      "source": [
        "# Divide each word's occurrence count by the total number of words to get that z(w_i) number.\n",
        "word_fractions = word_counts / float(total_words)\n",
        "\n",
        "# Coefficient to control how aggressively we subsample.\n",
        "coeff = 0.001\n",
        "\n",
        "# Let's calculate the probabilities for all words.\n",
        "#\n",
        "# Numpy is handling a lot for us here. It knows that when we divide\n",
        "# an array by a scalar (like word_fractions / coeff) we mean to divide\n",
        "# each element by the scalar.\n",
        "# And when we multiple two arrays together, it knows to multiply each\n",
        "# element of the arrays together. (If we had wanted the dot product\n",
        "# instead, we would use np.dot)\n",
        "word_sample_rates = (np.sqrt(word_fractions / coeff) + 1) * (coeff / word_fractions)"
      ],
      "execution_count": null,
      "outputs": []
    },
    {
      "cell_type": "markdown",
      "metadata": {
        "id": "YqBltAknkJTW"
      },
      "source": [
        "---------------\n",
        "Now that we have the sampling probabilities calculated for all words, let's see what the probabilities are for the most common words."
      ]
    },
    {
      "cell_type": "code",
      "metadata": {
        "id": "BxbYwhzAkJTY",
        "colab": {
          "base_uri": "https://localhost:8080/",
          "height": 485
        },
        "outputId": "71956b65-2998-4b93-aaa0-9aa2b075c2a7"
      },
      "source": [
        "print(\"--Rank--  --Word--  --Probability to keep--\")\n",
        "\n",
        "# Go through the words (from most frequent down) until we find\n",
        "# the first word which will always be kept.\n",
        "for i in range(len(words)):\n",
        "    print('%4d %10s       %.0f%%' % (i, words[i], word_sample_rates[i]*100.0))\n",
        "\n",
        "    # Stop when we go above 100%\n",
        "    if word_sample_rates[i] > 1.0:\n",
        "        break"
      ],
      "execution_count": null,
      "outputs": [
        {
          "output_type": "stream",
          "text": [
            "--Rank--  --Word--  --Probability to keep--\n",
            "   0        the       13%\n",
            "   1         of       19%\n",
            "   2        and       21%\n",
            "   3         in       21%\n",
            "   4         to       26%\n",
            "   5        was       34%\n",
            "   6         is       40%\n",
            "   7        for       44%\n",
            "   8         on       44%\n",
            "   9         as       45%\n",
            "  10       with       48%\n",
            "  11         by       49%\n",
            "  12         he       52%\n",
            "  13       that       56%\n",
            "  14         at       57%\n",
            "  15       from       59%\n",
            "  16        his       61%\n",
            "  17         it       64%\n",
            "  18         an       72%\n",
            "  19       were       80%\n",
            "  20      which       85%\n",
            "  21        are       85%\n",
            "  22       this       95%\n",
            "  23       also       95%\n",
            "  24         be       98%\n",
            "  25        had       100%\n"
          ],
          "name": "stdout"
        }
      ]
    },
    {
      "cell_type": "markdown",
      "metadata": {
        "id": "mSkolhmkkJTd"
      },
      "source": [
        "These results surprised me. For this dataset, the subsampling equation (with coefficient 0.001) only removes the top 25 stop words. Perhaps this is the intended behavior, or perhaps the Google News dataset had a different word frequency distribution.\n",
        "\n",
        "As we'll see in the next section, though, this subsampling does have a significant impact on the size of the training set.\n",
        "\n",
        "-----------\n",
        "\n",
        "With the sampling rates calculated, we can now calculate the expected reduction in size of the training set.\n",
        "Note that this sampling is not a pre-processing step, but rather a decision that's made on each word as we go through the training data. The training dataset is not modified, either--each training pass will remove different words, and the actual number of words removed will vary. The calculation below is just an average."
      ]
    },
    {
      "cell_type": "code",
      "metadata": {
        "id": "xZ9nrzILkJTe",
        "colab": {
          "base_uri": "https://localhost:8080/",
          "height": 86
        },
        "outputId": "029b061f-4d97-49a3-ff5c-1f701a108677"
      },
      "source": [
        "# Limit the sample rates to a max value of 1.0.\n",
        "wsr = np.clip(word_sample_rates, 0.0, 1.0)\n",
        "\n",
        "# Multiply each word's count by its sample rate, and sum the result\n",
        "# to get the expected number of sampled words.\n",
        "sampled_words = np.dot(word_counts, wsr)\n",
        "\n",
        "# Report the result.\n",
        "print(\"\\nOf {:,} words in the training set, on average {:,} will be sampled.\".format(total_words, int(sampled_words)))\n",
        "\n",
        "# By what percent did we reduce the training set?\n",
        "percent_sampled = (total_words - sampled_words) / total_words * 100.0\n",
        "\n",
        "print(\"\\nThis is a %.2f%% reduction in size.\" % (percent_sampled))"
      ],
      "execution_count": null,
      "outputs": [
        {
          "output_type": "stream",
          "text": [
            "\n",
            "Of 1,947,152,902 words in the training set, on average 1,514,904,475 will be sampled.\n",
            "\n",
            "This is a 22.20% reduction in size.\n"
          ],
          "name": "stdout"
        }
      ]
    },
    {
      "cell_type": "markdown",
      "metadata": {
        "id": "OnSRWBjokJTi"
      },
      "source": [
        "--------\n",
        "Below is some code for taking an example sentence and displaying the sampling probabilities for each word."
      ]
    },
    {
      "cell_type": "code",
      "metadata": {
        "id": "mdDzjvIQkJTj",
        "colab": {
          "base_uri": "https://localhost:8080/",
          "height": 537
        },
        "outputId": "127cf55e-8b3d-4119-fc18-2b6c0ba051b7"
      },
      "source": [
        "# Let's define this as a function so we can re-use it on other sentences.\n",
        "def subsample_sentence(sentence, word_sample_rates):\n",
        "\n",
        "    print(\"\\n%8s  %15s    %s\" % ('--Rank--', '--Word--', '--Probability to keep--'))\n",
        "\n",
        "    # For each word in the sentence\n",
        "    for word in sentence:\n",
        "        # Find the word's index.\n",
        "        i = words.index(word)\n",
        "\n",
        "        #print(word_fractions[i])\n",
        "\n",
        "        word_prob = word_sample_rates[i]\n",
        "\n",
        "        if word_prob > 1.0:\n",
        "            word_prob = 1.0\n",
        "\n",
        "        print('%8d %15s       %.0f%%' % (i, word, word_prob*100.0))\n",
        "\n",
        "\n",
        "# Let's try a classic example.\n",
        "sentence = ['the', 'quick', 'brown', 'fox', 'jumped', 'over', 'the', 'lazy', 'dog']\n",
        "subsample_sentence(sentence, word_sample_rates)\n",
        "\n",
        "# And now something arbitrary.\n",
        "sentence = ['below', 'is', 'some', 'code', 'for', 'taking', 'an', 'example', 'sentence', 'and', 'displaying', 'the', 'sampling', 'probabilities', 'for', 'each', 'word']\n",
        "subsample_sentence(sentence, word_sample_rates)"
      ],
      "execution_count": null,
      "outputs": [
        {
          "output_type": "stream",
          "text": [
            "\n",
            "--Rank--         --Word--    --Probability to keep--\n",
            "       0             the       13%\n",
            "    4638           quick       100%\n",
            "     820           brown       100%\n",
            "    1873             fox       100%\n",
            "    9571          jumped       100%\n",
            "      54            over       100%\n",
            "       0             the       13%\n",
            "   16643            lazy       100%\n",
            "    2521             dog       100%\n",
            "\n",
            "--Rank--         --Word--    --Probability to keep--\n",
            "     727           below       100%\n",
            "       6              is       40%\n",
            "      61            some       100%\n",
            "    1254            code       100%\n",
            "       7             for       44%\n",
            "     736          taking       100%\n",
            "      18              an       72%\n",
            "     437         example       100%\n",
            "    3519        sentence       100%\n",
            "       2             and       21%\n",
            "   10061      displaying       100%\n",
            "       0             the       13%\n",
            "   10347        sampling       100%\n",
            "   21846   probabilities       100%\n",
            "       7             for       44%\n",
            "     139            each       100%\n",
            "     949            word       100%\n"
          ],
          "name": "stdout"
        }
      ]
    },
    {
      "cell_type": "markdown",
      "metadata": {
        "id": "ld-sqnM0kJTo"
      },
      "source": [
        "# Negative Sampling<a name=\"negative_sampling\"></a>\n",
        "----------------\n",
        "Recall that when training the word2vec neural network, we only update the weights for a small number of \"negative\" words (that is, words which *are not* in the input word's context). This is referred to as negative sampling.\n",
        "\n",
        "The negative samples are selected at random, but with a probability tied to the word's frequency in the training data. That is, more common words are selected more often as negative samples."
      ]
    },
    {
      "cell_type": "markdown",
      "metadata": {
        "id": "BzMTr0BMkJTq"
      },
      "source": [
        "## Sampling with Unigram Distribution<a name=\"unigram\"></a>\n",
        "----------------\n",
        "The most straightforward sampling for negative words would be to select them with the same probability as their occurrence in the training data:\n",
        "\n",
        "$ P(w_i) = \\frac{  f(w_i)  }{\\sum_{j=0}^{n}\\left(  f(w_j) \\right) } $\n",
        "\n",
        "That is, the probability of selecting word 'i' is just the number of occurrences of word i over the total number of word occurrences in the corpus.\n",
        "\n",
        "Let's plot the word counts to see what this distribution would look like."
      ]
    },
    {
      "cell_type": "code",
      "metadata": {
        "id": "ygsCNOgokJTr",
        "colab": {
          "base_uri": "https://localhost:8080/",
          "height": 372
        },
        "outputId": "2a9ce2ca-2c06-44d0-97ca-5bf9fc6c85e4"
      },
      "source": [
        "%matplotlib inline\n",
        "\n",
        "import seaborn as sns\n",
        "import matplotlib.pyplot as plt\n",
        "\n",
        "# Use seaborn to provide nice default formatting.\n",
        "sns.set(style='darkgrid')\n",
        "\n",
        "# Increase the plot size and font size.\n",
        "sns.set(font_scale=1.5)\n",
        "plt.rcParams[\"figure.figsize\"] = (10,5)\n",
        "\n",
        "# For each word, calculate the probability that you would choose it\n",
        "# at random from the training set.\n",
        "word_probs = word_counts / float(total_words)\n",
        "\n",
        "# The x-axis will just be the word \"ranking\".\n",
        "# Because the words are all sorted by frequency, a\n",
        "# word's index in the list is also its rank.\n",
        "word_ranks = range(0, len(words))\n",
        "\n",
        "# Plot the word counts on a logarithmic scale.\n",
        "plt.yscale('log')\n",
        "plt.plot(word_ranks, word_probs)\n",
        "\n",
        "plt.xlabel('Word Rank')\n",
        "plt.ylabel('Word Probability')\n",
        "plt.title('Probability of selecting each word')\n",
        "\n",
        "plt.show()"
      ],
      "execution_count": null,
      "outputs": [
        {
          "output_type": "display_data",
          "data": {
            "image/png": "[encoded data removed]",
            "text/plain": [
              "<Figure size 720x360 with 1 Axes>"
            ]
          },
          "metadata": {
            "tags": []
          }
        }
      ]
    },
    {
      "cell_type": "markdown",
      "metadata": {
        "id": "23nVwU4XkJT0"
      },
      "source": [
        "----------------\n",
        "Here are some words at different points in the rankings.\n",
        "\n",
        "Even by around word 50,000, some of the entries are getting a little bizzare (\"laidlaw\"? \"coldfield\"?)"
      ]
    },
    {
      "cell_type": "code",
      "metadata": {
        "id": "Hb0fjpxTkJT1",
        "colab": {
          "base_uri": "https://localhost:8080/",
          "height": 537
        },
        "outputId": "cfd8e927-a70c-4aef-fb30-bb68dcff3dd6"
      },
      "source": [
        "print('{:<10} {:>15} {:>10}'.format('--Rank--', '--Word--', '--Count--'))\n",
        "\n",
        "# Ranks 1,000 : 1,005\n",
        "for i in range(1000, 1005):\n",
        "    print('{:<10,} {:>15} {:>10,}'.format(i, words[i], word_counts[i]))\n",
        "\n",
        "print('...')\n",
        "\n",
        "# Ranks 5,000 : 5,005\n",
        "for i in range(5000, 5005):\n",
        "    print('{:<10,} {:>15} {:>10,}'.format(i, words[i], word_counts[i]))\n",
        "\n",
        "print('...')\n",
        "\n",
        "# Ranks 10,000 : 10,005\n",
        "for i in range(10000, 10005):\n",
        "    print('{:<10,} {:>15} {:>10,}'.format(i, words[i], word_counts[i]))\n",
        "\n",
        "print('...')\n",
        "\n",
        "# Ranks 50,000 : 50,005\n",
        "for i in range(50000, 50005):\n",
        "    print('{:<10,} {:>15} {:>10,}'.format(i, words[i], word_counts[i]))\n",
        "\n",
        "print('...')\n",
        "\n",
        "# Ranks 100,000 : 100,005\n",
        "for i in range(100000, 100005):\n",
        "    print('{:<10,} {:>15} {:>10,}'.format(i, words[i], word_counts[i]))\n"
      ],
      "execution_count": null,
      "outputs": [
        {
          "output_type": "stream",
          "text": [
            "--Rank--          --Word--  --Count--\n",
            "1,000               earned    213,781\n",
            "1,001               failed    213,560\n",
            "1,002               sister    213,138\n",
            "1,003                 deal    212,669\n",
            "1,004             increase    212,598\n",
            "...\n",
            "5,000           travelling     37,179\n",
            "5,001               mumbai     37,178\n",
            "5,002            stability     37,157\n",
            "5,003               seized     37,153\n",
            "5,004             columbus     37,146\n",
            "...\n",
            "10,000       cross-country     14,332\n",
            "10,001             liaison     14,327\n",
            "10,002          veterinary     14,325\n",
            "10,003               jules     14,314\n",
            "10,004     commander-in-chief     14,312\n",
            "...\n",
            "50,000             laidlaw      1,159\n",
            "50,001               wylde      1,159\n",
            "50,002            roseland      1,159\n",
            "50,003           coldfield      1,159\n",
            "50,004            warhol's      1,159\n",
            "...\n",
            "100,000          shimabara        391\n",
            "100,001            parkins        391\n",
            "100,002             prying        391\n",
            "100,003       farmer-labor        391\n",
            "100,004              drewe        391\n"
          ],
          "name": "stdout"
        }
      ]
    },
    {
      "cell_type": "markdown",
      "metadata": {
        "id": "BDYkQSJ2kJT7"
      },
      "source": [
        "## Sampling with Modified Distribution<a name=\"modified\"></a>\n",
        "---------\n",
        "The word2vec authors found that a slight modification to this function produced the best results. They raised each word count to the 3/4 power:\n",
        "\n",
        "$ P(w_i) = \\frac{  {f(w_i)}^{3/4}  }{\\sum_{j=0}^{n}\\left(  {f(w_j)}^{3/4} \\right) } $\n",
        "\n",
        "Let's calculate these modified probabilities, and plot them together with the unigram distribution to see the difference."
      ]
    },
    {
      "cell_type": "code",
      "metadata": {
        "id": "YH1wyXRqkJT8",
        "colab": {
          "base_uri": "https://localhost:8080/",
          "height": 372
        },
        "outputId": "67a1aaaf-935e-4ea1-8911-afb98645720f"
      },
      "source": [
        "# Raise all word counts to the 3/4 power.\n",
        "word_counts_34 = word_counts**0.75\n",
        "\n",
        "# Sum these to get the denominator.\n",
        "total_words_34 = np.sum(word_counts_34)\n",
        "\n",
        "# Calculate the word probabilities\n",
        "word_probs_34 = word_counts_34 / total_words_34\n",
        "\n",
        "# Create a new figure and retrieve the axis object so we can\n",
        "# plot both distrubtions together.\n",
        "fig = plt.figure()\n",
        "ax1 = fig.add_subplot(111)\n",
        "\n",
        "# Plot both distributions.\n",
        "ax1.plot(word_ranks, word_probs,    c='b', label='Unigram')\n",
        "ax1.plot(word_ranks, word_probs_34, c='r', label='Unigram^3/4')\n",
        "\n",
        "# Show the probabilities in log scale.\n",
        "plt.yscale('log')\n",
        "\n",
        "# Add the legend and label the plot.\n",
        "plt.legend()\n",
        "plt.xlabel('Word Rank')\n",
        "plt.ylabel('Word Probability')\n",
        "plt.title('Comparison of distributions')\n",
        "\n",
        "plt.show()"
      ],
      "execution_count": null,
      "outputs": [
        {
          "output_type": "display_data",
          "data": {
            "image/png": "[encoded data removed]",
            "text/plain": [
              "<Figure size 720x360 with 1 Axes>"
            ]
          },
          "metadata": {
            "tags": []
          }
        }
      ]
    },
    {
      "cell_type": "markdown",
      "metadata": {
        "id": "6lAcifAMkJUC"
      },
      "source": [
        "We can see that, on the very far left, the modified distribution **decreases** probability for the most frequent words. But for the majority of the words, the modified distribution **increases** their probability.\n",
        "\n",
        "Out of curiosity, where does it flip?"
      ]
    },
    {
      "cell_type": "code",
      "metadata": {
        "id": "A5eb5s5NkJUD",
        "colab": {
          "base_uri": "https://localhost:8080/",
          "height": 190
        },
        "outputId": "aed12203-fee5-479a-9d61-d25f010416f3"
      },
      "source": [
        "for i in range(len(word_probs)):\n",
        "    if word_probs[i] < word_probs_34[i]:\n",
        "        print(\"'%s', ranked %d, is the first word which has a \" \\\n",
        "              \"higher probability \\n with the modified distribution.\\n\" % (words[i], i))\n",
        "        print(\"  - This means probability is decreased for only \" \\\n",
        "              \"the top %.2f%% of the vocabulary.\\n\" % (float(i) / float(len(word_probs)) * 100.0))\n",
        "        print(\"  - '%s' has probability %G with unigram,\" % (words[i], word_probs[i]))\n",
        "        print(\"    and probability %G with the modified distribution.\\n\" % (word_probs_34[i]))\n",
        "        print(\"  - '{:}' occurs {:,} times in the corpus.\\n\".format(words[i], word_counts[i]))\n",
        "        break\n",
        ""
      ],
      "execution_count": null,
      "outputs": [
        {
          "output_type": "stream",
          "text": [
            "'occupied', ranked 1851, is the first word which has a higher probability \n",
            " with the modified distribution.\n",
            "\n",
            "  - This means probability is decreased for only the top 0.08% of the vocabulary.\n",
            "\n",
            "  - 'occupied' has probability 6.17127E-05 with unigram,\n",
            "    and probability 6.17156E-05 with the modified distribution.\n",
            "\n",
            "  - 'occupied' occurs 120,164 times in the corpus.\n",
            "\n"
          ],
          "name": "stdout"
        }
      ]
    },
    {
      "cell_type": "markdown",
      "metadata": {
        "id": "cTj3jswqkJUH"
      },
      "source": [
        "# Appendix - Google News Vocabulary by Frequency <a name=\"appendix\"></a>\n",
        "--------------------------\n",
        "\n",
        "If you load the Google News model in gensim (as we did in Chapter 1), you can look at, for example, `model.vocab[\"hello\"].count`. I assumed this was the word occurrence count that we want, but it's actually just the word's _ranking_. So if you sort the 3M words in the Google News vocabulary by this \"count\" property, you'll just get the correct ranking of the words, but not the actual number of occurrences.\n",
        "\n",
        "The below code demonstrates this."
      ]
    },
    {
      "cell_type": "code",
      "metadata": {
        "id": "eNpQARWDkJUI",
        "outputId": "59964441-6653-4504-a29b-076d7d5a8fb7"
      },
      "source": [
        "%%time\n",
        "\n",
        "from gensim.corpora import Dictionary\n",
        "\n",
        "import gensim\n",
        "\n",
        "filepath = './data/GoogleNews-vectors-negative300.bin'\n",
        "\n",
        "# Load Google's pre-trained Word2Vec model.\n",
        "model = gensim.models.KeyedVectors.load_word2vec_format(filepath, binary=True)\n",
        "\n",
        "# Get the list of words in the vocabulary.\n",
        "words = model.vocab.keys()\n",
        "\n",
        "# Create a corresponding list of the count for each word.\n",
        "word_ranks = []\n",
        "for word in words:\n",
        "    word_ranks.append(model.vocab[word].count)\n",
        "\n",
        "# Sort both lists by the word counts, descending (most frequent first).\n",
        "# Please forgive the python nastiness! We're combining the lists,\n",
        "# sorting by the counts, then splitting them back into two separate\n",
        "# lists.\n",
        "word_ranks, words = map(list, zip(*sorted(zip(word_ranks, words), reverse=True)))\n",
        "\n",
        "print('\\nThe 10 most frequest words:\\n')\n",
        "print('  --Rank--    --Word--')\n",
        "\n",
        "# For the 10 most frequent words...\n",
        "for i in range(10):\n",
        "    # Print the rank with commas, and pad it to 12 characters.\n",
        "    print('{:>12,}     {:}'.format(word_ranks[i], words[i]))\n",
        "\n",
        "print('\\nThe 10 least frequest words:\\n')\n",
        "print('  --Rank--    --Word--')\n",
        "\n",
        "# Go backwards through the last 10 indeces...\n",
        "for i in range(-1, -10, -1):\n",
        "    # Print the count with commas, and pad it to 12 characters.\n",
        "    print('{:>12,}     {:}'.format(word_ranks[i], words[i]))"
      ],
      "execution_count": null,
      "outputs": [
        {
          "output_type": "stream",
          "text": [
            "\n",
            "The 10 most frequest words:\n",
            "\n",
            "  --Rank--    --Word--\n",
            "   3,000,000     </s>\n",
            "   2,999,999     in\n",
            "   2,999,998     for\n",
            "   2,999,997     that\n",
            "   2,999,996     is\n",
            "   2,999,995     on\n",
            "   2,999,994     ##\n",
            "   2,999,993     The\n",
            "   2,999,992     with\n",
            "   2,999,991     said\n",
            "\n",
            "The 10 least frequest words:\n",
            "\n",
            "  --Rank--    --Word--\n",
            "           1     snowcapped_Caucasus\n",
            "           2     pulverizes_boulders\n",
            "           3     Mezze_Cafe\n",
            "           4     Bim_Skala_Bim\n",
            "           5     RAFFAELE\n",
            "           6     righthander_Kyle_Drabek\n",
            "           7     Thirsty_Owl\n",
            "           8     divider_pistons\n",
            "           9     Shilpa_Goenka\n",
            "Wall time: 46.4 s\n"
          ],
          "name": "stdout"
        }
      ]
    }
  ]
}